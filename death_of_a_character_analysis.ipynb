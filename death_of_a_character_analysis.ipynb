{
 "cells": [
  {
   "cell_type": "markdown",
   "metadata": {},
   "source": [
    "# Death of a Character Analysis\n",
    "\n",
    "Here we give each word from the corpus a risk score based on whether a charater who utters the word survives the film. This is then used to derive cumulative risk scores for sentences."
   ]
  },
  {
   "cell_type": "code",
   "execution_count": 1,
   "metadata": {},
   "outputs": [],
   "source": [
    "import re\n",
    "\n",
    "import pandas as pd\n",
    "import numpy as np"
   ]
  },
  {
   "cell_type": "code",
   "execution_count": 2,
   "metadata": {},
   "outputs": [],
   "source": [
    "data_path = 'data/{}'\n",
    "\n",
    "deaths_data = data_path.format('death_list.txt')\n",
    "corpus_data = data_path.format('movie_lines.txt')\n"
   ]
  },
  {
   "cell_type": "code",
   "execution_count": 3,
   "metadata": {},
   "outputs": [
    {
     "data": {
      "text/html": [
       "<div>\n",
       "<style scoped>\n",
       "    .dataframe tbody tr th:only-of-type {\n",
       "        vertical-align: middle;\n",
       "    }\n",
       "\n",
       "    .dataframe tbody tr th {\n",
       "        vertical-align: top;\n",
       "    }\n",
       "\n",
       "    .dataframe thead th {\n",
       "        text-align: right;\n",
       "    }\n",
       "</style>\n",
       "<table border=\"1\" class=\"dataframe\">\n",
       "  <thead>\n",
       "    <tr style=\"text-align: right;\">\n",
       "      <th></th>\n",
       "      <th>film_id</th>\n",
       "      <th>dead_characters</th>\n",
       "    </tr>\n",
       "  </thead>\n",
       "  <tbody>\n",
       "    <tr>\n",
       "      <th>0</th>\n",
       "      <td>m148</td>\n",
       "      <td>MARGE,TINA,ROD,GLEN</td>\n",
       "    </tr>\n",
       "    <tr>\n",
       "      <th>1</th>\n",
       "      <td>m507</td>\n",
       "      <td>CASEY,MR. PRESCOTT,TATUM,KENNY,STU,BILLY</td>\n",
       "    </tr>\n",
       "    <tr>\n",
       "      <th>2</th>\n",
       "      <td>m213</td>\n",
       "      <td>GARRY,PALMER,DR. COPPER,NORRIS,CLARK,BENNINGS,...</td>\n",
       "    </tr>\n",
       "    <tr>\n",
       "      <th>3</th>\n",
       "      <td>m87</td>\n",
       "      <td>FRANK,PRUDHOE,1ST MAN,LARRY,JULIA</td>\n",
       "    </tr>\n",
       "    <tr>\n",
       "      <th>4</th>\n",
       "      <td>m421</td>\n",
       "      <td>JONES,WILLIE,COBB,DOC,DEJESUS,BOWMAN,SIXPACK,W...</td>\n",
       "    </tr>\n",
       "    <tr>\n",
       "      <th>5</th>\n",
       "      <td>m158</td>\n",
       "      <td>LOUIS,JUD,RACHEL,PASCOW</td>\n",
       "    </tr>\n",
       "    <tr>\n",
       "      <th>6</th>\n",
       "      <td>m470</td>\n",
       "      <td>DREW,GUS,MARJORIE,RENEE</td>\n",
       "    </tr>\n",
       "    <tr>\n",
       "      <th>7</th>\n",
       "      <td>m379</td>\n",
       "      <td>ANNIE,LYNDA,BOB,SISTER</td>\n",
       "    </tr>\n",
       "    <tr>\n",
       "      <th>8</th>\n",
       "      <td>m514</td>\n",
       "      <td>JACK,HALLORAN,GRADY</td>\n",
       "    </tr>\n",
       "    <tr>\n",
       "      <th>9</th>\n",
       "      <td>m17</td>\n",
       "      <td>DAVID,ALEX,JACK,LT. VILLIERS,BRINGSLY</td>\n",
       "    </tr>\n",
       "  </tbody>\n",
       "</table>\n",
       "</div>"
      ],
      "text/plain": [
       "  film_id                                    dead_characters\n",
       "0    m148                                MARGE,TINA,ROD,GLEN\n",
       "1    m507           CASEY,MR. PRESCOTT,TATUM,KENNY,STU,BILLY\n",
       "2    m213  GARRY,PALMER,DR. COPPER,NORRIS,CLARK,BENNINGS,...\n",
       "3     m87                  FRANK,PRUDHOE,1ST MAN,LARRY,JULIA\n",
       "4    m421  JONES,WILLIE,COBB,DOC,DEJESUS,BOWMAN,SIXPACK,W...\n",
       "5    m158                            LOUIS,JUD,RACHEL,PASCOW\n",
       "6    m470                            DREW,GUS,MARJORIE,RENEE\n",
       "7    m379                             ANNIE,LYNDA,BOB,SISTER\n",
       "8    m514                                JACK,HALLORAN,GRADY\n",
       "9     m17              DAVID,ALEX,JACK,LT. VILLIERS,BRINGSLY"
      ]
     },
     "execution_count": 3,
     "metadata": {},
     "output_type": "execute_result"
    }
   ],
   "source": [
    "death_list = pd.read_csv(deaths_data)\n",
    "death_list"
   ]
  },
  {
   "cell_type": "code",
   "execution_count": 4,
   "metadata": {},
   "outputs": [],
   "source": [
    "header_columns = ['lineID', 'characterID', 'movieID', 'character name', 'TextOfTheUtterance']\n",
    "\n",
    "corpus = pd.read_csv(\n",
    "    corpus_data, \n",
    "    engine='python', \n",
    "    sep=' \\+{3}\\$\\+{3} ', \n",
    "    header=None,\n",
    "    names=header_columns\n",
    ")"
   ]
  },
  {
   "cell_type": "code",
   "execution_count": 5,
   "metadata": {},
   "outputs": [
    {
     "data": {
      "text/html": [
       "<div>\n",
       "<style scoped>\n",
       "    .dataframe tbody tr th:only-of-type {\n",
       "        vertical-align: middle;\n",
       "    }\n",
       "\n",
       "    .dataframe tbody tr th {\n",
       "        vertical-align: top;\n",
       "    }\n",
       "\n",
       "    .dataframe thead th {\n",
       "        text-align: right;\n",
       "    }\n",
       "</style>\n",
       "<table border=\"1\" class=\"dataframe\">\n",
       "  <thead>\n",
       "    <tr style=\"text-align: right;\">\n",
       "      <th></th>\n",
       "      <th>lineID</th>\n",
       "      <th>characterID</th>\n",
       "      <th>movieID</th>\n",
       "      <th>character name</th>\n",
       "      <th>TextOfTheUtterance</th>\n",
       "    </tr>\n",
       "  </thead>\n",
       "  <tbody>\n",
       "    <tr>\n",
       "      <th>0</th>\n",
       "      <td>L1045</td>\n",
       "      <td>u0</td>\n",
       "      <td>m0</td>\n",
       "      <td>BIANCA</td>\n",
       "      <td>They do not!</td>\n",
       "    </tr>\n",
       "    <tr>\n",
       "      <th>1</th>\n",
       "      <td>L1044</td>\n",
       "      <td>u2</td>\n",
       "      <td>m0</td>\n",
       "      <td>CAMERON</td>\n",
       "      <td>They do to!</td>\n",
       "    </tr>\n",
       "    <tr>\n",
       "      <th>2</th>\n",
       "      <td>L985</td>\n",
       "      <td>u0</td>\n",
       "      <td>m0</td>\n",
       "      <td>BIANCA</td>\n",
       "      <td>I hope so.</td>\n",
       "    </tr>\n",
       "    <tr>\n",
       "      <th>3</th>\n",
       "      <td>L984</td>\n",
       "      <td>u2</td>\n",
       "      <td>m0</td>\n",
       "      <td>CAMERON</td>\n",
       "      <td>She okay?</td>\n",
       "    </tr>\n",
       "    <tr>\n",
       "      <th>4</th>\n",
       "      <td>L925</td>\n",
       "      <td>u0</td>\n",
       "      <td>m0</td>\n",
       "      <td>BIANCA</td>\n",
       "      <td>Let's go.</td>\n",
       "    </tr>\n",
       "  </tbody>\n",
       "</table>\n",
       "</div>"
      ],
      "text/plain": [
       "  lineID characterID movieID character name TextOfTheUtterance\n",
       "0  L1045          u0      m0         BIANCA       They do not!\n",
       "1  L1044          u2      m0        CAMERON        They do to!\n",
       "2   L985          u0      m0         BIANCA         I hope so.\n",
       "3   L984          u2      m0        CAMERON          She okay?\n",
       "4   L925          u0      m0         BIANCA          Let's go."
      ]
     },
     "execution_count": 5,
     "metadata": {},
     "output_type": "execute_result"
    }
   ],
   "source": [
    "corpus.head()"
   ]
  },
  {
   "cell_type": "code",
   "execution_count": 6,
   "metadata": {},
   "outputs": [],
   "source": [
    "def determine_death(row, list_dead):\n",
    "    if row['character name'] in list_dead:\n",
    "        return 1\n",
    "    return 0\n",
    "\n",
    "\n",
    "def dead_characters(film):\n",
    "    \"\"\" Retrieves the list of characters that died in a film\n",
    "    \n",
    "    :param str film: The film ID.\n",
    "    :return: List[str] of characters.\n",
    "    \"\"\"\n",
    "    query = death_list['film_id'] == film\n",
    "    \n",
    "    return death_list.loc[query, 'dead_characters'].iloc[0].split(',')\n",
    "\n",
    "\n",
    "def grab_results(corpus, film):\n",
    "        film_corpus = corpus[corpus['movieID'] == film]\n",
    "        \n",
    "        list_dead = dead_characters(film)\n",
    "        \n",
    "        film_corpus['died'] = film_corpus.apply(determine_death, args=(list_dead,), axis=1)\n",
    "\n",
    "        film_corpus['TextOfTheUtterance'] = film_corpus['TextOfTheUtterance'].str.findall(r'\\w+')\n",
    "        \n",
    "        longframe = pd.DataFrame([\n",
    "            (row.died, word.upper())\n",
    "            for row in film_corpus.itertuples()\n",
    "            for word in row.TextOfTheUtterance],\n",
    "            columns=['score', 'word']\n",
    "        )\n",
    "        \n",
    "        score = longframe.groupby('word')['score'].sum()\n",
    "        count = longframe['word'].value_counts()\n",
    "        \n",
    "        result = pd.DataFrame(\n",
    "            {\n",
    "                'score': score, \n",
    "                'count': count, \n",
    "                'normalized_score': score/count\n",
    "            }\n",
    "        )\n",
    "        \n",
    "        result = result.reset_index().rename(columns={'index': 'word'})\n",
    "          \n",
    "        return result"
   ]
  },
  {
   "cell_type": "code",
   "execution_count": 7,
   "metadata": {},
   "outputs": [
    {
     "data": {
      "text/plain": [
       "['DREW', 'GUS', 'MARJORIE', 'RENEE']"
      ]
     },
     "execution_count": 7,
     "metadata": {},
     "output_type": "execute_result"
    }
   ],
   "source": [
    "dead_characters('m470')"
   ]
  },
  {
   "cell_type": "code",
   "execution_count": 8,
   "metadata": {},
   "outputs": [],
   "source": [
    "films = [\n",
    "    'm148',\n",
    "    'm507',\n",
    "    'm213',\n",
    "    'm87',\n",
    "    'm421',\n",
    "    'm158',\n",
    "    'm470',\n",
    "    'm379',\n",
    "    'm514',\n",
    "    'm17'\n",
    "]"
   ]
  },
  {
   "cell_type": "code",
   "execution_count": 9,
   "metadata": {},
   "outputs": [
    {
     "name": "stderr",
     "output_type": "stream",
     "text": [
      "/usr/local/lib/python2.7/dist-packages/ipykernel_launcher.py:23: SettingWithCopyWarning: \n",
      "A value is trying to be set on a copy of a slice from a DataFrame.\n",
      "Try using .loc[row_indexer,col_indexer] = value instead\n",
      "\n",
      "See the caveats in the documentation: http://pandas.pydata.org/pandas-docs/stable/indexing.html#indexing-view-versus-copy\n",
      "/usr/local/lib/python2.7/dist-packages/ipykernel_launcher.py:25: SettingWithCopyWarning: \n",
      "A value is trying to be set on a copy of a slice from a DataFrame.\n",
      "Try using .loc[row_indexer,col_indexer] = value instead\n",
      "\n",
      "See the caveats in the documentation: http://pandas.pydata.org/pandas-docs/stable/indexing.html#indexing-view-versus-copy\n"
     ]
    }
   ],
   "source": [
    "scored_films_list = []\n",
    "for film in films:\n",
    "    scored_films_list.append(grab_results(corpus, film))"
   ]
  },
  {
   "cell_type": "code",
   "execution_count": 10,
   "metadata": {},
   "outputs": [],
   "source": [
    "scored_films = pd.concat(scored_films_list)"
   ]
  },
  {
   "cell_type": "code",
   "execution_count": 11,
   "metadata": {},
   "outputs": [],
   "source": [
    "score = scored_films.groupby('word')['score'].sum()\n",
    "count = scored_films.groupby('word')['count'].sum()"
   ]
  },
  {
   "cell_type": "code",
   "execution_count": 12,
   "metadata": {},
   "outputs": [],
   "source": [
    "result = pd.DataFrame(\n",
    "    {\n",
    "        'score': score,\n",
    "        'count': count,\n",
    "        'normalized_score': score/count,\n",
    "\n",
    "    }\n",
    ")\n",
    "result = result.reset_index().rename(columns={'index': 'word'})"
   ]
  },
  {
   "cell_type": "code",
   "execution_count": 13,
   "metadata": {
    "scrolled": true
   },
   "outputs": [
    {
     "data": {
      "text/html": [
       "<div>\n",
       "<style scoped>\n",
       "    .dataframe tbody tr th:only-of-type {\n",
       "        vertical-align: middle;\n",
       "    }\n",
       "\n",
       "    .dataframe tbody tr th {\n",
       "        vertical-align: top;\n",
       "    }\n",
       "\n",
       "    .dataframe thead th {\n",
       "        text-align: right;\n",
       "    }\n",
       "</style>\n",
       "<table border=\"1\" class=\"dataframe\">\n",
       "  <thead>\n",
       "    <tr style=\"text-align: right;\">\n",
       "      <th></th>\n",
       "      <th>word</th>\n",
       "      <th>count</th>\n",
       "      <th>normalized_score</th>\n",
       "      <th>score</th>\n",
       "    </tr>\n",
       "  </thead>\n",
       "  <tbody>\n",
       "    <tr>\n",
       "      <th>3552</th>\n",
       "      <td>ZENDA</td>\n",
       "      <td>1</td>\n",
       "      <td>1.000000</td>\n",
       "      <td>1</td>\n",
       "    </tr>\n",
       "    <tr>\n",
       "      <th>3553</th>\n",
       "      <td>ZOMBIE</td>\n",
       "      <td>1</td>\n",
       "      <td>1.000000</td>\n",
       "      <td>1</td>\n",
       "    </tr>\n",
       "    <tr>\n",
       "      <th>3554</th>\n",
       "      <td>ZOMBIES</td>\n",
       "      <td>1</td>\n",
       "      <td>1.000000</td>\n",
       "      <td>1</td>\n",
       "    </tr>\n",
       "    <tr>\n",
       "      <th>3555</th>\n",
       "      <td>ZOO</td>\n",
       "      <td>7</td>\n",
       "      <td>0.857143</td>\n",
       "      <td>6</td>\n",
       "    </tr>\n",
       "    <tr>\n",
       "      <th>3556</th>\n",
       "      <td>ZOWIE</td>\n",
       "      <td>10</td>\n",
       "      <td>0.600000</td>\n",
       "      <td>6</td>\n",
       "    </tr>\n",
       "  </tbody>\n",
       "</table>\n",
       "</div>"
      ],
      "text/plain": [
       "         word  count  normalized_score  score\n",
       "3552    ZENDA      1          1.000000      1\n",
       "3553   ZOMBIE      1          1.000000      1\n",
       "3554  ZOMBIES      1          1.000000      1\n",
       "3555      ZOO      7          0.857143      6\n",
       "3556    ZOWIE     10          0.600000      6"
      ]
     },
     "execution_count": 13,
     "metadata": {},
     "output_type": "execute_result"
    }
   ],
   "source": [
    "result.tail()"
   ]
  },
  {
   "cell_type": "code",
   "execution_count": 14,
   "metadata": {},
   "outputs": [],
   "source": [
    "parse_sentence = lambda x: re.findall(r'\\w+', x.upper())"
   ]
  },
  {
   "cell_type": "code",
   "execution_count": 15,
   "metadata": {},
   "outputs": [],
   "source": [
    "def score_lookup(word):\n",
    "    if word in list(result['word']):\n",
    "        query = result['word'] == word\n",
    "    \n",
    "        score = result.loc[query, 'score'].iloc[0]\n",
    "        count = result.loc[query, 'count'].iloc[0]\n",
    "    \n",
    "        return (score, count)\n",
    "    return (0, 0)"
   ]
  },
  {
   "cell_type": "code",
   "execution_count": 16,
   "metadata": {},
   "outputs": [],
   "source": [
    "def evaluate(sentence):\n",
    "    evaluated = [\n",
    "        sum(m) \n",
    "        for m in zip(\n",
    "            *[score_lookup(n) \n",
    "              for n in sentence]\n",
    "        )\n",
    "    ]\n",
    "    \n",
    "    scored, counted = evaluated\n",
    "    return {'score': scored, 'count': counted, 'normalized_score': scored/float(counted)}"
   ]
  },
  {
   "cell_type": "code",
   "execution_count": 17,
   "metadata": {},
   "outputs": [
    {
     "data": {
      "text/plain": [
       "{'count': 1935, 'normalized_score': 0.54677002583979328, 'score': 1058}"
      ]
     },
     "execution_count": 17,
     "metadata": {},
     "output_type": "execute_result"
    }
   ],
   "source": [
    "examine_string = 'Have you seen my dog?'\n",
    "evaluate(parse_sentence(examine_string))"
   ]
  },
  {
   "cell_type": "code",
   "execution_count": 18,
   "metadata": {},
   "outputs": [
    {
     "data": {
      "text/plain": [
       "{'count': 1466, 'normalized_score': 0.53751705320600274, 'score': 788}"
      ]
     },
     "execution_count": 18,
     "metadata": {},
     "output_type": "execute_result"
    }
   ],
   "source": [
    "examine_string = \"Don't go in there!\"\n",
    "evaluate(parse_sentence(examine_string))"
   ]
  },
  {
   "cell_type": "code",
   "execution_count": 19,
   "metadata": {},
   "outputs": [
    {
     "data": {
      "text/plain": [
       "{'count': 2182, 'normalized_score': 0.56141154903758017, 'score': 1225}"
      ]
     },
     "execution_count": 19,
     "metadata": {},
     "output_type": "execute_result"
    }
   ],
   "source": [
    "examine_string = \"I haven't seen him!\"\n",
    "evaluate(parse_sentence(examine_string))"
   ]
  },
  {
   "cell_type": "code",
   "execution_count": 20,
   "metadata": {},
   "outputs": [
    {
     "data": {
      "text/plain": [
       "{'count': 1488, 'normalized_score': 0.5786290322580645, 'score': 861}"
      ]
     },
     "execution_count": 20,
     "metadata": {},
     "output_type": "execute_result"
    }
   ],
   "source": [
    "examine_string = \"Help I am lost!\"\n",
    "evaluate(parse_sentence(examine_string))"
   ]
  },
  {
   "cell_type": "code",
   "execution_count": 21,
   "metadata": {},
   "outputs": [
    {
     "data": {
      "text/plain": [
       "{'count': 499, 'normalized_score': 0.52505010020040077, 'score': 262}"
      ]
     },
     "execution_count": 21,
     "metadata": {},
     "output_type": "execute_result"
    }
   ],
   "source": [
    "examine_string = \"We are safe\"\n",
    "evaluate(parse_sentence(examine_string))"
   ]
  },
  {
   "cell_type": "code",
   "execution_count": 22,
   "metadata": {},
   "outputs": [
    {
     "data": {
      "text/plain": [
       "{'count': 2422, 'normalized_score': 0.56028075970272506, 'score': 1357}"
      ]
     },
     "execution_count": 22,
     "metadata": {},
     "output_type": "execute_result"
    }
   ],
   "source": [
    "examine_string = \"I think we are in trouble\"\n",
    "evaluate(parse_sentence(examine_string))"
   ]
  },
  {
   "cell_type": "code",
   "execution_count": 23,
   "metadata": {},
   "outputs": [
    {
     "data": {
      "text/plain": [
       "{'count': 2854, 'normalized_score': 0.56412053258584438, 'score': 1610}"
      ]
     },
     "execution_count": 23,
     "metadata": {},
     "output_type": "execute_result"
    }
   ],
   "source": [
    "examine_string = \"I don't think he will catch us.\"\n",
    "evaluate(parse_sentence(examine_string))"
   ]
  },
  {
   "cell_type": "code",
   "execution_count": 24,
   "metadata": {},
   "outputs": [
    {
     "data": {
      "text/plain": [
       "{'count': 1617, 'normalized_score': 0.54854669140383427, 'score': 887}"
      ]
     },
     "execution_count": 24,
     "metadata": {},
     "output_type": "execute_result"
    }
   ],
   "source": [
    "examine_string = \"See you later\"\n",
    "evaluate(parse_sentence(examine_string))"
   ]
  }
 ],
 "metadata": {
  "kernelspec": {
   "display_name": "Python 2",
   "language": "python",
   "name": "python2"
  },
  "language_info": {
   "codemirror_mode": {
    "name": "ipython",
    "version": 2
   },
   "file_extension": ".py",
   "mimetype": "text/x-python",
   "name": "python",
   "nbconvert_exporter": "python",
   "pygments_lexer": "ipython2",
   "version": "2.7.12"
  }
 },
 "nbformat": 4,
 "nbformat_minor": 2
}
